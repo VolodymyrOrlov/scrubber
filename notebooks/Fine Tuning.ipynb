{
 "cells": [
  {
   "cell_type": "code",
   "execution_count": 25,
   "metadata": {
    "collapsed": true
   },
   "outputs": [],
   "source": [
    "import itertools\n",
    "import os\n",
    "import re\n",
    "import sys\n",
    "\n",
    "import pandas as pd\n",
    "import numpy as np\n",
    "import scipy as sp\n",
    "\n",
    "from sharknado.scipy.lib.data_manipulation import shark\n",
    "from sharknado.scipy.transformers import signature\n",
    "from sklearn.externals import joblib\n",
    "\n",
    "%matplotlib inline\n",
    "from IPython.core.pylabtools import figsize\n",
    "from IPython.display import clear_output\n",
    "from seaborn import plt\n",
    "\n",
    "pd.options.display.max_columns = 999\n",
    "pd.options.display.max_rows = 100"
   ]
  },
  {
   "cell_type": "markdown",
   "metadata": {},
   "source": [
    "## Read in and run existing model on sample data"
   ]
  },
  {
   "cell_type": "code",
   "execution_count": 117,
   "metadata": {
    "collapsed": true
   },
   "outputs": [],
   "source": [
    "model_dir = os.path.join(os.path.dirname(os.getcwd()), \"models\")\n",
    "m = models.load_model(os.path.join(\n",
    "    model_dir,\n",
    "    \"em8_ch32_ba32_ep20_bpe200_sw125_20161207183706_interrupted.model\"))"
   ]
  },
  {
   "cell_type": "code",
   "execution_count": 118,
   "metadata": {
    "collapsed": false
   },
   "outputs": [],
   "source": [
    "def Scrub(m, s):\n",
    "    v = bf.CharacterVectorizer()\n",
    "    encoded = v.transform([s.upper()]).toarray()\n",
    "    starts, stops = m.predict(encoded)\n",
    "    return s[starts.argmax():stops.argmax()]\n",
    "\n",
    "def ScrubBatch(m, s):\n",
    "    v = bf.CharacterVectorizer()\n",
    "    encoded = v.transform([ss.upper() for ss in s]).toarray()\n",
    "    starts, stops = m.predict(encoded)\n",
    "    return [\n",
    "        ss[start:stop].upper()\n",
    "        for ss, start, stop\n",
    "        in zip(s, starts.argmax(1), stops.argmax(1))]"
   ]
  },
  {
   "cell_type": "code",
   "execution_count": 119,
   "metadata": {
    "collapsed": false
   },
   "outputs": [
    {
     "name": "stdout",
     "output_type": "stream",
     "text": [
      "Querying sharknado at http://ec2-107-20-123-161.compute-1.amazonaws.com:4043\n"
     ]
    }
   ],
   "source": [
    "ugly = shark.Query(\"\"\"\n",
    "SELECT merchant\n",
    "FROM transactions\n",
    "ORDER BY clear_date DESC\n",
    "LIMIT 20000\n",
    "\"\"\")"
   ]
  },
  {
   "cell_type": "code",
   "execution_count": 122,
   "metadata": {
    "collapsed": false,
    "scrolled": true
   },
   "outputs": [],
   "source": [
    "def GetPredictions(m, s):\n",
    "    v = bf.CharacterVectorizer()\n",
    "    encoded = v.transform([s.upper()]).toarray()\n",
    "    starts, stops = m.predict(encoded)\n",
    "    return starts, stops\n",
    "\n",
    "def Visualize(m, s):\n",
    "    starts, stops = GetPredictions(m, s)\n",
    "    slen = max(len(s), 50)\n",
    "    x = np.arange(slen)\n",
    "    figsize(12, 1.5)\n",
    "    fig = plt.figure()\n",
    "    ax = fig.add_subplot(111)\n",
    "    ax.bar(x, starts[0][:slen], color=\"green\", alpha=0.5)\n",
    "    ax.bar(x, stops[0][:slen], color=\"red\", alpha=0.5)\n",
    "    plt.xticks(x + 0.3, s.upper())\n",
    "    plt.xlim(0, slen)\n",
    "    plt.title(\"Model Predoctions of Merchant Start and End\")\n",
    "    ax.set_yticklabels([])\n",
    "    plt.show()"
   ]
  },
  {
   "cell_type": "code",
   "execution_count": null,
   "metadata": {
    "collapsed": false,
    "scrolled": false
   },
   "outputs": [],
   "source": [
    "cv = bf.CharacterVectorizer()\n",
    "u_starts, u_stops = m.predict(cv.transform(ugly.merchant).toarray())"
   ]
  },
  {
   "cell_type": "code",
   "execution_count": null,
   "metadata": {
    "collapsed": false
   },
   "outputs": [],
   "source": [
    "ugly[\"entropy\"] = (\n",
    "    sp.special.entr(u_starts).sum(axis=1) + sp.special.entr(u_stops).sum(axis=1) / np.log(2))"
   ]
  },
  {
   "cell_type": "code",
   "execution_count": null,
   "metadata": {
    "collapsed": false
   },
   "outputs": [],
   "source": [
    "ugly[\"confidence\"] = u_starts.max(axis=1) * u_stops.max(axis=1)"
   ]
  },
  {
   "cell_type": "code",
   "execution_count": null,
   "metadata": {
    "collapsed": false
   },
   "outputs": [],
   "source": [
    "figsize(16, 6)\n",
    "plt.hist(ugly.entropy, bins=np.arange(0, 5, 0.1), histtype=\"stepfilled\", alpha=0.7)\n",
    "plt.title(\"Distribution of Start and Stop Index Entropy\")\n",
    "plt.ylabel(\"Count\")\n",
    "plt.xlabel(\"H(start) + H(stop)\")\n",
    "plt.show()\n",
    "\n",
    "plt.hist(ugly.confidence, bins=np.arange(0, 1, 0.01), histtype=\"stepfilled\", alpha=0.7)\n",
    "plt.title(\"Distribution of Slice Confidence\")\n",
    "plt.ylabel(\"Count\")\n",
    "plt.xlabel(\"P(start) * P(stop)\")\n",
    "plt.show()\n",
    "\n",
    "plt.title(\"Entropy vs. Confidence\")\n",
    "plt.scatter(ugly.entropy, ugly.confidence, alpha=0.05)\n",
    "plt.xlim(0, 5)\n",
    "plt.ylim(0, 1)\n",
    "plt.xlabel(\"Entropy\")\n",
    "plt.ylabel(\"Confidence\")\n",
    "plt.show()"
   ]
  },
  {
   "cell_type": "markdown",
   "metadata": {},
   "source": [
    "## Fine Tuning\n",
    "### Create Fine Tuning Dataset"
   ]
  },
  {
   "cell_type": "code",
   "execution_count": 381,
   "metadata": {
    "collapsed": false
   },
   "outputs": [],
   "source": [
    "def RankSlices(m, s):\n",
    "    starts, stops = [p[0] for p in GetPredictions(m, s)]\n",
    "    ranked_starts, ranked_stops = [p.argsort()[::-1][:5] for p in (starts, stops)]\n",
    "    options = []\n",
    "    for srt_ix, stp_ix in itertools.product(ranked_starts, ranked_stops):\n",
    "        if srt_ix < stp_ix:\n",
    "            prob = starts[srt_ix] * stops[stp_ix]\n",
    "            if prob > 0.0001:\n",
    "                options.append((prob, srt_ix, stp_ix, s[srt_ix:stp_ix]))\n",
    "    return list(sorted(options, reverse=True))"
   ]
  },
  {
   "cell_type": "code",
   "execution_count": 357,
   "metadata": {
    "collapsed": false,
    "scrolled": false
   },
   "outputs": [],
   "source": [
    "candidates = ugly.sort_values(\"entropy\", ascending=False).merchant.unique()"
   ]
  },
  {
   "cell_type": "code",
   "execution_count": 440,
   "metadata": {
    "collapsed": false
   },
   "outputs": [],
   "source": [
    "num_re = re.compile(r\"[0-9]+\")\n",
    "candidate_sigs = set()\n",
    "keep = []\n",
    "for cnd in candidates:\n",
    "    sig = num_re.sub(\"0\", cnd)\n",
    "    if sig in candidate_sigs:\n",
    "        continue\n",
    "    else:\n",
    "        candidate_sigs.add(sig)\n",
    "        keep.append(cnd)\n",
    "keep = np.array(keep)"
   ]
  },
  {
   "cell_type": "code",
   "execution_count": 453,
   "metadata": {
    "collapsed": false
   },
   "outputs": [],
   "source": [
    "def AnnotateOne(m, s):\n",
    "    ranked = RankSlices(m, s)\n",
    "    i = 0\n",
    "    while i < len(ranked):\n",
    "        prob, srt_ix, stp_ix, substr = ranked[i]\n",
    "        print \"> \" + s\n",
    "        print \"? \" + \" \" * srt_ix + substr\n",
    "        sys.stdout.flush()\n",
    "        take_input = True\n",
    "        while take_input:\n",
    "            inp = raw_input()\n",
    "            if inp == \";\":\n",
    "                clear_output()\n",
    "                print \"> \" + s\n",
    "                print \"= \" + \" \" * srt_ix + substr\n",
    "                return substr\n",
    "            elif inp.startswith(\"+\"):\n",
    "                clear_output()\n",
    "                substr = inp.strip(\"+\").strip()\n",
    "                print \"> \" + s\n",
    "                print \"= \" + substr\n",
    "                return substr\n",
    "            elif inp == \"k\":\n",
    "                clear_output()\n",
    "                substr = s\n",
    "                print \"> \" + s\n",
    "                print \"= \" + substr\n",
    "                return substr\n",
    "            elif inp == \"'\":\n",
    "                clear_output()\n",
    "                take_input = False\n",
    "                i += 1\n",
    "            elif inp == \"b\":\n",
    "                clear_output()\n",
    "                take_input = False\n",
    "                i -= 1\n",
    "            elif inp == \"q\":\n",
    "                clear_output()\n",
    "                return \"QQQQ\"\n",
    "            else:\n",
    "                sys.stdout.write(\"what?\")\n",
    "    print \"? \" + s\n",
    "    print \"?\" * (len(s) + 2)"
   ]
  },
  {
   "cell_type": "code",
   "execution_count": 454,
   "metadata": {
    "collapsed": false
   },
   "outputs": [],
   "source": [
    "def AnnotateMany(m, ss, data_dir=os.path.join(os.path.dirname(os.getcwd()), \"data\", \"raw\")):\n",
    "    with open(os.path.join(data_dir, \"hand_annotated.tsv\"), \"r\") as f:\n",
    "        already_annotated = set([line.partition(\"\\t\")[0] for line in f.readlines()])\n",
    "    for s in ss:\n",
    "        if s in already_annotated:\n",
    "            continue\n",
    "        substr = AnnotateOne(m, s)\n",
    "        if substr == \"QQQQ\":\n",
    "            return\n",
    "        elif substr is not None:\n",
    "            with open(os.path.join(data_dir, \"hand_annotated.tsv\"), \"a\") as f:\n",
    "                f.write(\"{}\\t{}\\n\".format(s, substr))"
   ]
  },
  {
   "cell_type": "code",
   "execution_count": 455,
   "metadata": {
    "collapsed": false,
    "scrolled": true
   },
   "outputs": [],
   "source": [
    "AnnotateMany(m, keep)"
   ]
  },
  {
   "cell_type": "markdown",
   "metadata": {},
   "source": [
    "### Evaluate & Train on Fine Tuning Data"
   ]
  },
  {
   "cell_type": "code",
   "execution_count": 543,
   "metadata": {
    "collapsed": true
   },
   "outputs": [],
   "source": [
    "m2 = models.load_model(os.path.join(\n",
    "    model_dir,\n",
    "    \"em8_ch32_ba32_ep5_20161120061601.model\"))"
   ]
  },
  {
   "cell_type": "code",
   "execution_count": 476,
   "metadata": {
    "collapsed": false
   },
   "outputs": [],
   "source": [
    "annotated_path = os.path.join(\n",
    "    os.path.dirname(os.getcwd()),\n",
    "    \"data\", \"raw\", \"hand_annotated.tsv\")\n",
    "with open(annotated_path, \"r\") as f:\n",
    "    annotated = [line.strip().split(\"\\t\") for line in f.readlines()]"
   ]
  },
  {
   "cell_type": "code",
   "execution_count": 509,
   "metadata": {
    "collapsed": false
   },
   "outputs": [],
   "source": [
    "ha_starts = np.array([s.index(mer) for s, mer in annotated])\n",
    "ha_stops = np.array([min(s + len(mer), 124) for s, (_, mer) in zip(ha_starts, annotated)])\n",
    "\n",
    "def onehot(ixs):\n",
    "    hot = np.zeros((ixs.shape[0], 125))\n",
    "    hot[np.arange(ixs.shape[0]), ixs] = 1\n",
    "    return hot\n",
    "\n",
    "ha_starts = onehot(ha_starts)\n",
    "ha_stops = onehot(ha_stops)"
   ]
  },
  {
   "cell_type": "code",
   "execution_count": 510,
   "metadata": {
    "collapsed": false
   },
   "outputs": [],
   "source": [
    "ha_merchants = cv.transform([s for s, _ in annotated]).toarray()"
   ]
  },
  {
   "cell_type": "code",
   "execution_count": 517,
   "metadata": {
    "collapsed": false
   },
   "outputs": [],
   "source": [
    "ha_ixs = np.arange(ha_starts.shape[0])\n",
    "np.random.shuffle(ha_ixs)\n",
    "\n",
    "ha_starts_train = ha_starts[ha_ixs[500:]]\n",
    "ha_stops_train = ha_stops[ha_ixs[500:]]\n",
    "ha_merchants_train = ha_merchants[ha_ixs[500:]]\n",
    "\n",
    "ha_starts_test = ha_starts[ha_ixs[:500]]\n",
    "ha_stops_test = ha_stops[ha_ixs[:500]]\n",
    "ha_merchants_test = ha_merchants[ha_ixs[:500]]"
   ]
  },
  {
   "cell_type": "code",
   "execution_count": 531,
   "metadata": {
    "collapsed": true
   },
   "outputs": [
    {
     "name": "stdout",
     "output_type": "stream",
     "text": [
      "Train on 2593 samples, validate on 500 samples\n",
      "Epoch 1/5\n",
      "2593/2593 [==============================] - 213s - loss: 1.0804 - start_index_loss: 0.3639 - end_index_loss: 0.7165 - start_index_acc: 0.8735 - end_index_acc: 0.7385 - val_loss: 1.3187 - val_start_index_loss: 0.4230 - val_end_index_loss: 0.8957 - val_start_index_acc: 0.8560 - val_end_index_acc: 0.6600\n",
      "Epoch 2/5\n",
      "2593/2593 [==============================] - 234s - loss: 0.8434 - start_index_loss: 0.2398 - end_index_loss: 0.6036 - start_index_acc: 0.9194 - end_index_acc: 0.7759 - val_loss: 1.3370 - val_start_index_loss: 0.4413 - val_end_index_loss: 0.8957 - val_start_index_acc: 0.8500 - val_end_index_acc: 0.6740\n",
      "Epoch 3/5\n",
      " 256/2593 [=>............................] - ETA: 188s - loss: 0.6616 - start_index_loss: 0.1654 - end_index_loss: 0.4961 - start_index_acc: 0.9453 - end_index_acc: 0.8438"
     ]
    },
    {
     "ename": "KeyboardInterrupt",
     "evalue": "",
     "traceback": [
      "\u001b[0;31m---------------------------------------------------------------------------\u001b[0m",
      "\u001b[0;31mKeyboardInterrupt\u001b[0m                         Traceback (most recent call last)",
      "\u001b[0;32m<ipython-input-531-e18b927728ce>\u001b[0m in \u001b[0;36m<module>\u001b[0;34m()\u001b[0m\n\u001b[1;32m      8\u001b[0m         \u001b[0mha_merchants_test\u001b[0m\u001b[0;34m,\u001b[0m\u001b[0;34m\u001b[0m\u001b[0m\n\u001b[1;32m      9\u001b[0m         [ha_starts_test, ha_stops_test]),\n\u001b[0;32m---> 10\u001b[0;31m     shuffle=True)\n\u001b[0m",
      "\u001b[0;32m/Library/Python/2.7/site-packages/keras/engine/training.pyc\u001b[0m in \u001b[0;36mfit\u001b[0;34m(self, x, y, batch_size, nb_epoch, verbose, callbacks, validation_split, validation_data, shuffle, class_weight, sample_weight)\u001b[0m\n\u001b[1;32m   1122\u001b[0m                               \u001b[0mverbose\u001b[0m\u001b[0;34m=\u001b[0m\u001b[0mverbose\u001b[0m\u001b[0;34m,\u001b[0m \u001b[0mcallbacks\u001b[0m\u001b[0;34m=\u001b[0m\u001b[0mcallbacks\u001b[0m\u001b[0;34m,\u001b[0m\u001b[0;34m\u001b[0m\u001b[0m\n\u001b[1;32m   1123\u001b[0m                               \u001b[0mval_f\u001b[0m\u001b[0;34m=\u001b[0m\u001b[0mval_f\u001b[0m\u001b[0;34m,\u001b[0m \u001b[0mval_ins\u001b[0m\u001b[0;34m=\u001b[0m\u001b[0mval_ins\u001b[0m\u001b[0;34m,\u001b[0m \u001b[0mshuffle\u001b[0m\u001b[0;34m=\u001b[0m\u001b[0mshuffle\u001b[0m\u001b[0;34m,\u001b[0m\u001b[0;34m\u001b[0m\u001b[0m\n\u001b[0;32m-> 1124\u001b[0;31m                               callback_metrics=callback_metrics)\n\u001b[0m\u001b[1;32m   1125\u001b[0m \u001b[0;34m\u001b[0m\u001b[0m\n\u001b[1;32m   1126\u001b[0m     \u001b[0;32mdef\u001b[0m \u001b[0mevaluate\u001b[0m\u001b[0;34m(\u001b[0m\u001b[0mself\u001b[0m\u001b[0;34m,\u001b[0m \u001b[0mx\u001b[0m\u001b[0;34m,\u001b[0m \u001b[0my\u001b[0m\u001b[0;34m,\u001b[0m \u001b[0mbatch_size\u001b[0m\u001b[0;34m=\u001b[0m\u001b[0;36m32\u001b[0m\u001b[0;34m,\u001b[0m \u001b[0mverbose\u001b[0m\u001b[0;34m=\u001b[0m\u001b[0;36m1\u001b[0m\u001b[0;34m,\u001b[0m \u001b[0msample_weight\u001b[0m\u001b[0;34m=\u001b[0m\u001b[0mNone\u001b[0m\u001b[0;34m)\u001b[0m\u001b[0;34m:\u001b[0m\u001b[0;34m\u001b[0m\u001b[0m\n",
      "\u001b[0;32m/Library/Python/2.7/site-packages/keras/engine/training.pyc\u001b[0m in \u001b[0;36m_fit_loop\u001b[0;34m(self, f, ins, out_labels, batch_size, nb_epoch, verbose, callbacks, val_f, val_ins, shuffle, callback_metrics)\u001b[0m\n\u001b[1;32m    840\u001b[0m                 \u001b[0mbatch_logs\u001b[0m\u001b[0;34m[\u001b[0m\u001b[0;34m'size'\u001b[0m\u001b[0;34m]\u001b[0m \u001b[0;34m=\u001b[0m \u001b[0mlen\u001b[0m\u001b[0;34m(\u001b[0m\u001b[0mbatch_ids\u001b[0m\u001b[0;34m)\u001b[0m\u001b[0;34m\u001b[0m\u001b[0m\n\u001b[1;32m    841\u001b[0m                 \u001b[0mcallbacks\u001b[0m\u001b[0;34m.\u001b[0m\u001b[0mon_batch_begin\u001b[0m\u001b[0;34m(\u001b[0m\u001b[0mbatch_index\u001b[0m\u001b[0;34m,\u001b[0m \u001b[0mbatch_logs\u001b[0m\u001b[0;34m)\u001b[0m\u001b[0;34m\u001b[0m\u001b[0m\n\u001b[0;32m--> 842\u001b[0;31m                 \u001b[0mouts\u001b[0m \u001b[0;34m=\u001b[0m \u001b[0mf\u001b[0m\u001b[0;34m(\u001b[0m\u001b[0mins_batch\u001b[0m\u001b[0;34m)\u001b[0m\u001b[0;34m\u001b[0m\u001b[0m\n\u001b[0m\u001b[1;32m    843\u001b[0m                 \u001b[0;32mif\u001b[0m \u001b[0mtype\u001b[0m\u001b[0;34m(\u001b[0m\u001b[0mouts\u001b[0m\u001b[0;34m)\u001b[0m \u001b[0;34m!=\u001b[0m \u001b[0mlist\u001b[0m\u001b[0;34m:\u001b[0m\u001b[0;34m\u001b[0m\u001b[0m\n\u001b[1;32m    844\u001b[0m                     \u001b[0mouts\u001b[0m \u001b[0;34m=\u001b[0m \u001b[0;34m[\u001b[0m\u001b[0mouts\u001b[0m\u001b[0;34m]\u001b[0m\u001b[0;34m\u001b[0m\u001b[0m\n",
      "\u001b[0;32m/Library/Python/2.7/site-packages/keras/backend/tensorflow_backend.py\u001b[0m in \u001b[0;36m__call__\u001b[0;34m(self, inputs)\u001b[0m\n\u001b[1;32m   1038\u001b[0m             \u001b[0mfeed_dict\u001b[0m\u001b[0;34m[\u001b[0m\u001b[0mtensor\u001b[0m\u001b[0;34m]\u001b[0m \u001b[0;34m=\u001b[0m \u001b[0mvalue\u001b[0m\u001b[0;34m\u001b[0m\u001b[0m\n\u001b[1;32m   1039\u001b[0m         \u001b[0msession\u001b[0m \u001b[0;34m=\u001b[0m \u001b[0mget_session\u001b[0m\u001b[0;34m(\u001b[0m\u001b[0;34m)\u001b[0m\u001b[0;34m\u001b[0m\u001b[0m\n\u001b[0;32m-> 1040\u001b[0;31m         \u001b[0mupdated\u001b[0m \u001b[0;34m=\u001b[0m \u001b[0msession\u001b[0m\u001b[0;34m.\u001b[0m\u001b[0mrun\u001b[0m\u001b[0;34m(\u001b[0m\u001b[0mself\u001b[0m\u001b[0;34m.\u001b[0m\u001b[0moutputs\u001b[0m \u001b[0;34m+\u001b[0m \u001b[0;34m[\u001b[0m\u001b[0mself\u001b[0m\u001b[0;34m.\u001b[0m\u001b[0mupdates_op\u001b[0m\u001b[0;34m]\u001b[0m\u001b[0;34m,\u001b[0m \u001b[0mfeed_dict\u001b[0m\u001b[0;34m=\u001b[0m\u001b[0mfeed_dict\u001b[0m\u001b[0;34m)\u001b[0m\u001b[0;34m\u001b[0m\u001b[0m\n\u001b[0m\u001b[1;32m   1041\u001b[0m         \u001b[0;32mreturn\u001b[0m \u001b[0mupdated\u001b[0m\u001b[0;34m[\u001b[0m\u001b[0;34m:\u001b[0m\u001b[0mlen\u001b[0m\u001b[0;34m(\u001b[0m\u001b[0mself\u001b[0m\u001b[0;34m.\u001b[0m\u001b[0moutputs\u001b[0m\u001b[0;34m)\u001b[0m\u001b[0;34m]\u001b[0m\u001b[0;34m\u001b[0m\u001b[0m\n\u001b[1;32m   1042\u001b[0m \u001b[0;34m\u001b[0m\u001b[0m\n",
      "\u001b[0;32m/Library/Python/2.7/site-packages/tensorflow/python/client/session.pyc\u001b[0m in \u001b[0;36mrun\u001b[0;34m(self, fetches, feed_dict, options, run_metadata)\u001b[0m\n\u001b[1;32m    715\u001b[0m     \u001b[0;32mtry\u001b[0m\u001b[0;34m:\u001b[0m\u001b[0;34m\u001b[0m\u001b[0m\n\u001b[1;32m    716\u001b[0m       result = self._run(None, fetches, feed_dict, options_ptr,\n\u001b[0;32m--> 717\u001b[0;31m                          run_metadata_ptr)\n\u001b[0m\u001b[1;32m    718\u001b[0m       \u001b[0;32mif\u001b[0m \u001b[0mrun_metadata\u001b[0m\u001b[0;34m:\u001b[0m\u001b[0;34m\u001b[0m\u001b[0m\n\u001b[1;32m    719\u001b[0m         \u001b[0mproto_data\u001b[0m \u001b[0;34m=\u001b[0m \u001b[0mtf_session\u001b[0m\u001b[0;34m.\u001b[0m\u001b[0mTF_GetBuffer\u001b[0m\u001b[0;34m(\u001b[0m\u001b[0mrun_metadata_ptr\u001b[0m\u001b[0;34m)\u001b[0m\u001b[0;34m\u001b[0m\u001b[0m\n",
      "\u001b[0;32m/Library/Python/2.7/site-packages/tensorflow/python/client/session.pyc\u001b[0m in \u001b[0;36m_run\u001b[0;34m(self, handle, fetches, feed_dict, options, run_metadata)\u001b[0m\n\u001b[1;32m    913\u001b[0m     \u001b[0;32mif\u001b[0m \u001b[0mfinal_fetches\u001b[0m \u001b[0;32mor\u001b[0m \u001b[0mfinal_targets\u001b[0m\u001b[0;34m:\u001b[0m\u001b[0;34m\u001b[0m\u001b[0m\n\u001b[1;32m    914\u001b[0m       results = self._do_run(handle, final_targets, final_fetches,\n\u001b[0;32m--> 915\u001b[0;31m                              feed_dict_string, options, run_metadata)\n\u001b[0m\u001b[1;32m    916\u001b[0m     \u001b[0;32melse\u001b[0m\u001b[0;34m:\u001b[0m\u001b[0;34m\u001b[0m\u001b[0m\n\u001b[1;32m    917\u001b[0m       \u001b[0mresults\u001b[0m \u001b[0;34m=\u001b[0m \u001b[0;34m[\u001b[0m\u001b[0;34m]\u001b[0m\u001b[0;34m\u001b[0m\u001b[0m\n",
      "\u001b[0;32m/Library/Python/2.7/site-packages/tensorflow/python/client/session.pyc\u001b[0m in \u001b[0;36m_do_run\u001b[0;34m(self, handle, target_list, fetch_list, feed_dict, options, run_metadata)\u001b[0m\n\u001b[1;32m    963\u001b[0m     \u001b[0;32mif\u001b[0m \u001b[0mhandle\u001b[0m \u001b[0;32mis\u001b[0m \u001b[0mNone\u001b[0m\u001b[0;34m:\u001b[0m\u001b[0;34m\u001b[0m\u001b[0m\n\u001b[1;32m    964\u001b[0m       return self._do_call(_run_fn, self._session, feed_dict, fetch_list,\n\u001b[0;32m--> 965\u001b[0;31m                            target_list, options, run_metadata)\n\u001b[0m\u001b[1;32m    966\u001b[0m     \u001b[0;32melse\u001b[0m\u001b[0;34m:\u001b[0m\u001b[0;34m\u001b[0m\u001b[0m\n\u001b[1;32m    967\u001b[0m       return self._do_call(_prun_fn, self._session, handle, feed_dict,\n",
      "\u001b[0;32m/Library/Python/2.7/site-packages/tensorflow/python/client/session.pyc\u001b[0m in \u001b[0;36m_do_call\u001b[0;34m(self, fn, *args)\u001b[0m\n\u001b[1;32m    970\u001b[0m   \u001b[0;32mdef\u001b[0m \u001b[0m_do_call\u001b[0m\u001b[0;34m(\u001b[0m\u001b[0mself\u001b[0m\u001b[0;34m,\u001b[0m \u001b[0mfn\u001b[0m\u001b[0;34m,\u001b[0m \u001b[0;34m*\u001b[0m\u001b[0margs\u001b[0m\u001b[0;34m)\u001b[0m\u001b[0;34m:\u001b[0m\u001b[0;34m\u001b[0m\u001b[0m\n\u001b[1;32m    971\u001b[0m     \u001b[0;32mtry\u001b[0m\u001b[0;34m:\u001b[0m\u001b[0;34m\u001b[0m\u001b[0m\n\u001b[0;32m--> 972\u001b[0;31m       \u001b[0;32mreturn\u001b[0m \u001b[0mfn\u001b[0m\u001b[0;34m(\u001b[0m\u001b[0;34m*\u001b[0m\u001b[0margs\u001b[0m\u001b[0;34m)\u001b[0m\u001b[0;34m\u001b[0m\u001b[0m\n\u001b[0m\u001b[1;32m    973\u001b[0m     \u001b[0;32mexcept\u001b[0m \u001b[0merrors\u001b[0m\u001b[0;34m.\u001b[0m\u001b[0mOpError\u001b[0m \u001b[0;32mas\u001b[0m \u001b[0me\u001b[0m\u001b[0;34m:\u001b[0m\u001b[0;34m\u001b[0m\u001b[0m\n\u001b[1;32m    974\u001b[0m       \u001b[0mmessage\u001b[0m \u001b[0;34m=\u001b[0m \u001b[0mcompat\u001b[0m\u001b[0;34m.\u001b[0m\u001b[0mas_text\u001b[0m\u001b[0;34m(\u001b[0m\u001b[0me\u001b[0m\u001b[0;34m.\u001b[0m\u001b[0mmessage\u001b[0m\u001b[0;34m)\u001b[0m\u001b[0;34m\u001b[0m\u001b[0m\n",
      "\u001b[0;32m/Library/Python/2.7/site-packages/tensorflow/python/client/session.pyc\u001b[0m in \u001b[0;36m_run_fn\u001b[0;34m(session, feed_dict, fetch_list, target_list, options, run_metadata)\u001b[0m\n\u001b[1;32m    952\u001b[0m         return tf_session.TF_Run(session, options,\n\u001b[1;32m    953\u001b[0m                                  \u001b[0mfeed_dict\u001b[0m\u001b[0;34m,\u001b[0m \u001b[0mfetch_list\u001b[0m\u001b[0;34m,\u001b[0m \u001b[0mtarget_list\u001b[0m\u001b[0;34m,\u001b[0m\u001b[0;34m\u001b[0m\u001b[0m\n\u001b[0;32m--> 954\u001b[0;31m                                  status, run_metadata)\n\u001b[0m\u001b[1;32m    955\u001b[0m \u001b[0;34m\u001b[0m\u001b[0m\n\u001b[1;32m    956\u001b[0m     \u001b[0;32mdef\u001b[0m \u001b[0m_prun_fn\u001b[0m\u001b[0;34m(\u001b[0m\u001b[0msession\u001b[0m\u001b[0;34m,\u001b[0m \u001b[0mhandle\u001b[0m\u001b[0;34m,\u001b[0m \u001b[0mfeed_dict\u001b[0m\u001b[0;34m,\u001b[0m \u001b[0mfetch_list\u001b[0m\u001b[0;34m)\u001b[0m\u001b[0;34m:\u001b[0m\u001b[0;34m\u001b[0m\u001b[0m\n",
      "\u001b[0;31mKeyboardInterrupt\u001b[0m: "
     ],
     "output_type": "error"
    }
   ],
   "source": [
    "m2.fit(\n",
    "    ha_merchants_train,\n",
    "    [ha_starts_train, ha_stops_train],\n",
    "    batch_size=32,\n",
    "    nb_epoch=5,\n",
    "    verbose=1,\n",
    "    validation_data=(\n",
    "        ha_merchants_test,\n",
    "        [ha_starts_test, ha_stops_test]),\n",
    "    shuffle=True)"
   ]
  },
  {
   "cell_type": "code",
   "execution_count": 532,
   "metadata": {
    "collapsed": false,
    "scrolled": false
   },
   "outputs": [
    {
     "data": {
      "image/png": "[encoded data removed]",
      "text/plain": [
       "<matplotlib.figure.Figure at 0x13f5e8ed0>"
      ]
     },
     "metadata": {},
     "output_type": "display_data"
    }
   ],
   "source": [
    "Visualize(m2, \"LOS ANGELES SOCK MARKET UNIVERSA\")"
   ]
  },
  {
   "cell_type": "code",
   "execution_count": 533,
   "metadata": {
    "collapsed": false
   },
   "outputs": [
    {
     "data": {
      "image/png": "[encoded data removed]",
      "text/plain": [
       "<matplotlib.figure.Figure at 0x1331d1ad0>"
      ]
     },
     "metadata": {},
     "output_type": "display_data"
    }
   ],
   "source": [
    "Visualize(m2, \"TIV*TIVO SERVICE 877-367-8486 CA\")"
   ]
  },
  {
   "cell_type": "code",
   "execution_count": 534,
   "metadata": {
    "collapsed": false
   },
   "outputs": [
    {
     "data": {
      "image/png": "[encoded data removed]",
      "text/plain": [
       "<matplotlib.figure.Figure at 0x137764a50>"
      ]
     },
     "metadata": {},
     "output_type": "display_data"
    }
   ],
   "source": [
    "Visualize(m2, \"East Coast Original Fr\")"
   ]
  },
  {
   "cell_type": "code",
   "execution_count": 535,
   "metadata": {
    "collapsed": false
   },
   "outputs": [
    {
     "data": {
      "image/png": "[encoded data removed]",
      "text/plain": [
       "<matplotlib.figure.Figure at 0x13e127e10>"
      ]
     },
     "metadata": {},
     "output_type": "display_data"
    }
   ],
   "source": [
    "Visualize(m2, \"RICO'S CAFE & PIZZERIA GRAWN MI\")"
   ]
  },
  {
   "cell_type": "code",
   "execution_count": 536,
   "metadata": {
    "collapsed": false
   },
   "outputs": [
    {
     "data": {
      "image/png": "[encoded data removed]",
      "text/plain": [
       "<matplotlib.figure.Figure at 0x13e1bae10>"
      ]
     },
     "metadata": {},
     "output_type": "display_data"
    }
   ],
   "source": [
    "Visualize(m2, \"Electronic Purchase 7-ELEVEN 1688 COLONIAL BLVD FORT MYERS FLUS\")"
   ]
  },
  {
   "cell_type": "code",
   "execution_count": 537,
   "metadata": {
    "collapsed": false
   },
   "outputs": [
    {
     "data": {
      "image/png": "[encoded data removed]",
      "text/plain": [
       "<matplotlib.figure.Figure at 0x1376bd350>"
      ]
     },
     "metadata": {},
     "output_type": "display_data"
    }
   ],
   "source": [
    "Visualize(m2, \"H&M #146 SOUTH COAST PLA COSTA M\")"
   ]
  },
  {
   "cell_type": "code",
   "execution_count": 538,
   "metadata": {
    "collapsed": false
   },
   "outputs": [
    {
     "data": {
      "image/png": "[encoded data removed]",
      "text/plain": [
       "<matplotlib.figure.Figure at 0x13edb3e90>"
      ]
     },
     "metadata": {},
     "output_type": "display_data"
    }
   ],
   "source": [
    "Visualize(m2, \"KNOTTS BERRY FARM HOTEL RBUENA PARK CA\")"
   ]
  },
  {
   "cell_type": "code",
   "execution_count": 539,
   "metadata": {
    "collapsed": false
   },
   "outputs": [
    {
     "data": {
      "image/png": "[encoded data removed]",
      "text/plain": [
       "<matplotlib.figure.Figure at 0x13ee04dd0>"
      ]
     },
     "metadata": {},
     "output_type": "display_data"
    }
   ],
   "source": [
    "Visualize(m2, \"The HOME DEPOT 3816\")"
   ]
  },
  {
   "cell_type": "code",
   "execution_count": 84,
   "metadata": {
    "collapsed": false
   },
   "outputs": [
    {
     "ename": "NameError",
     "evalue": "name 'm2' is not defined",
     "traceback": [
      "\u001b[0;31m---------------------------------------------------------------------------\u001b[0m",
      "\u001b[0;31mNameError\u001b[0m                                 Traceback (most recent call last)",
      "\u001b[0;32m<ipython-input-84-1a70edf548e7>\u001b[0m in \u001b[0;36m<module>\u001b[0;34m()\u001b[0m\n\u001b[0;32m----> 1\u001b[0;31m \u001b[0mVisualize\u001b[0m\u001b[0;34m(\u001b[0m\u001b[0mm2\u001b[0m\u001b[0;34m,\u001b[0m \u001b[0;34m\"CHECKCARD 0110 LA BICYCLETTE CARMEL CA\"\u001b[0m\u001b[0;34m)\u001b[0m\u001b[0;34m\u001b[0m\u001b[0m\n\u001b[0m",
      "\u001b[0;31mNameError\u001b[0m: name 'm2' is not defined"
     ],
     "output_type": "error"
    }
   ],
   "source": [
    "Visualize(m2, \"CHECKCARD 0110 LA BICYCLETTE CARMEL CA\")"
   ]
  },
  {
   "cell_type": "code",
   "execution_count": 86,
   "metadata": {
    "collapsed": false
   },
   "outputs": [
    {
     "data": {
      "image/png": "[encoded data removed]",
      "text/plain": [
       "<matplotlib.figure.Figure at 0x117522110>"
      ]
     },
     "metadata": {},
     "output_type": "display_data"
    }
   ],
   "source": [
    "Visualize(m, \"The HOME DEPOT 3816\")"
   ]
  },
  {
   "cell_type": "code",
   "execution_count": 87,
   "metadata": {
    "collapsed": false
   },
   "outputs": [
    {
     "data": {
      "text/html": [
       "<div>\n",
       "<table border=\"1\" class=\"dataframe\">\n",
       "  <thead>\n",
       "    <tr style=\"text-align: right;\">\n",
       "      <th></th>\n",
       "      <th>end_index_acc</th>\n",
       "      <th>end_index_loss</th>\n",
       "      <th>loss</th>\n",
       "      <th>start_index_acc</th>\n",
       "      <th>start_index_loss</th>\n",
       "      <th>val_end_index_acc</th>\n",
       "      <th>val_end_index_loss</th>\n",
       "      <th>val_loss</th>\n",
       "      <th>val_start_index_acc</th>\n",
       "      <th>val_start_index_loss</th>\n",
       "    </tr>\n",
       "  </thead>\n",
       "  <tbody>\n",
       "    <tr>\n",
       "      <th>0</th>\n",
       "      <td>0.947373</td>\n",
       "      <td>0.167881</td>\n",
       "      <td>0.271640</td>\n",
       "      <td>0.971490</td>\n",
       "      <td>0.103759</td>\n",
       "      <td>0.959214</td>\n",
       "      <td>0.126407</td>\n",
       "      <td>0.188824</td>\n",
       "      <td>0.983973</td>\n",
       "      <td>0.062417</td>\n",
       "    </tr>\n",
       "    <tr>\n",
       "      <th>1</th>\n",
       "      <td>0.962698</td>\n",
       "      <td>0.117482</td>\n",
       "      <td>0.173473</td>\n",
       "      <td>0.984620</td>\n",
       "      <td>0.055991</td>\n",
       "      <td>0.962833</td>\n",
       "      <td>0.112422</td>\n",
       "      <td>0.165388</td>\n",
       "      <td>0.986386</td>\n",
       "      <td>0.052966</td>\n",
       "    </tr>\n",
       "    <tr>\n",
       "      <th>2</th>\n",
       "      <td>0.967466</td>\n",
       "      <td>0.101760</td>\n",
       "      <td>0.144602</td>\n",
       "      <td>0.988088</td>\n",
       "      <td>0.042842</td>\n",
       "      <td>0.966797</td>\n",
       "      <td>0.099270</td>\n",
       "      <td>0.145179</td>\n",
       "      <td>0.987764</td>\n",
       "      <td>0.045909</td>\n",
       "    </tr>\n",
       "    <tr>\n",
       "      <th>3</th>\n",
       "      <td>0.971139</td>\n",
       "      <td>0.090260</td>\n",
       "      <td>0.124836</td>\n",
       "      <td>0.990132</td>\n",
       "      <td>0.034577</td>\n",
       "      <td>0.969439</td>\n",
       "      <td>0.092383</td>\n",
       "      <td>0.139758</td>\n",
       "      <td>0.987994</td>\n",
       "      <td>0.047375</td>\n",
       "    </tr>\n",
       "    <tr>\n",
       "      <th>4</th>\n",
       "      <td>0.974208</td>\n",
       "      <td>0.080798</td>\n",
       "      <td>0.109866</td>\n",
       "      <td>0.991589</td>\n",
       "      <td>0.029068</td>\n",
       "      <td>0.970186</td>\n",
       "      <td>0.090926</td>\n",
       "      <td>0.133719</td>\n",
       "      <td>0.988856</td>\n",
       "      <td>0.042793</td>\n",
       "    </tr>\n",
       "  </tbody>\n",
       "</table>\n",
       "</div>"
      ],
      "text/plain": [
       "   end_index_acc  end_index_loss      loss  start_index_acc  start_index_loss  \\\n",
       "0       0.947373        0.167881  0.271640         0.971490          0.103759   \n",
       "1       0.962698        0.117482  0.173473         0.984620          0.055991   \n",
       "2       0.967466        0.101760  0.144602         0.988088          0.042842   \n",
       "3       0.971139        0.090260  0.124836         0.990132          0.034577   \n",
       "4       0.974208        0.080798  0.109866         0.991589          0.029068   \n",
       "\n",
       "   val_end_index_acc  val_end_index_loss  val_loss  val_start_index_acc  \\\n",
       "0           0.959214            0.126407  0.188824             0.983973   \n",
       "1           0.962833            0.112422  0.165388             0.986386   \n",
       "2           0.966797            0.099270  0.145179             0.987764   \n",
       "3           0.969439            0.092383  0.139758             0.987994   \n",
       "4           0.970186            0.090926  0.133719             0.988856   \n",
       "\n",
       "   val_start_index_loss  \n",
       "0              0.062417  \n",
       "1              0.052966  \n",
       "2              0.045909  \n",
       "3              0.047375  \n",
       "4              0.042793  "
      ]
     },
     "execution_count": 87,
     "metadata": {},
     "output_type": "execute_result"
    }
   ],
   "source": [
    "pd.read_csv(\"../reports/history_em8_ch32_ba32_ep5_20161120061601.csv\")"
   ]
  },
  {
   "cell_type": "code",
   "execution_count": null,
   "metadata": {
    "collapsed": true
   },
   "outputs": [],
   "source": [
    ""
   ]
  }
 ],
 "metadata": {
  "kernelspec": {
   "display_name": "Python 2",
   "language": "python",
   "name": "python2"
  },
  "language_info": {
   "codemirror_mode": {
    "name": "ipython",
    "version": 2.0
   },
   "file_extension": ".py",
   "mimetype": "text/x-python",
   "name": "python",
   "nbconvert_exporter": "python",
   "pygments_lexer": "ipython2",
   "version": "2.7.10"
  }
 },
 "nbformat": 4,
 "nbformat_minor": 0
}